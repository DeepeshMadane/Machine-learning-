{
  "nbformat": 4,
  "nbformat_minor": 0,
  "metadata": {
    "colab": {
      "provenance": [],
      "authorship_tag": "ABX9TyOOPWQZQBBY0DfmT1mHRzzi",
      "include_colab_link": true
    },
    "kernelspec": {
      "name": "python3",
      "display_name": "Python 3"
    },
    "language_info": {
      "name": "python"
    }
  },
  "cells": [
    {
      "cell_type": "markdown",
      "metadata": {
        "id": "view-in-github",
        "colab_type": "text"
      },
      "source": [
        "<a href=\"https://colab.research.google.com/github/DeepeshMadane/Machine-learning-/blob/main/Emission_in_us.ipynb\" target=\"_parent\"><img src=\"https://colab.research.google.com/assets/colab-badge.svg\" alt=\"Open In Colab\"/></a>"
      ]
    },
    {
      "cell_type": "code",
      "execution_count": 49,
      "metadata": {
        "id": "KnwRsXQzNKju"
      },
      "outputs": [],
      "source": [
        "import pandas as pd\n",
        "import numpy as np\n"
      ]
    },
    {
      "cell_type": "code",
      "source": [
        "dataset=pd.read_csv('/content/emissions[1].csv')"
      ],
      "metadata": {
        "id": "Gy3b3i2zNU-H"
      },
      "execution_count": 50,
      "outputs": []
    },
    {
      "cell_type": "code",
      "source": [
        "x=dataset.iloc[:,:-1].values\n",
        "y=dataset.iloc[:,-1].values"
      ],
      "metadata": {
        "id": "AlQ60ocwNl7W"
      },
      "execution_count": 51,
      "outputs": []
    },
    {
      "cell_type": "code",
      "source": [
        "print(x)"
      ],
      "metadata": {
        "colab": {
          "base_uri": "https://localhost:8080/"
        },
        "id": "VhDmZGvRREU_",
        "outputId": "c4fdcb6f-2fd1-43a8-f7d7-83395df5ae1e"
      },
      "execution_count": 52,
      "outputs": [
        {
          "output_type": "stream",
          "name": "stdout",
          "text": [
            "[[1970 'Alabama' 'Industrial carbon dioxide emissions' 'Coal']\n",
            " [1970 'Alabama' 'Industrial carbon dioxide emissions' 'Petroleum']\n",
            " [1970 'Alabama' 'Industrial carbon dioxide emissions' 'Natural Gas']\n",
            " ...\n",
            " [2021 'Wyoming' 'Residential carbon dioxide emissions' 'Natural Gas']\n",
            " [2021 'Wyoming' 'Residential carbon dioxide emissions' 'Petroleum']\n",
            " [2021 'Wyoming' 'Total carbon dioxide emissions from all sectors'\n",
            "  'Petroleum']]\n"
          ]
        }
      ]
    },
    {
      "cell_type": "code",
      "source": [
        "missing_values=dataset.isnull().sum()"
      ],
      "metadata": {
        "id": "YMZOhfu1RIlT"
      },
      "execution_count": 53,
      "outputs": []
    },
    {
      "cell_type": "code",
      "source": [
        "print(missing_values)"
      ],
      "metadata": {
        "colab": {
          "base_uri": "https://localhost:8080/"
        },
        "id": "8oNpMptHRWli",
        "outputId": "52b18de5-5a37-4758-f9e6-f23e90bcc30f"
      },
      "execution_count": 54,
      "outputs": [
        {
          "output_type": "stream",
          "name": "stdout",
          "text": [
            "year           0\n",
            "state-name     0\n",
            "sector-name    0\n",
            "fuel-name      0\n",
            "value          0\n",
            "dtype: int64\n"
          ]
        }
      ]
    },
    {
      "cell_type": "code",
      "source": [
        "print(y)"
      ],
      "metadata": {
        "colab": {
          "base_uri": "https://localhost:8080/"
        },
        "id": "gg2IkkLhRY4I",
        "outputId": "2df7b46d-94d0-4a35-b342-8e1d837f687b"
      },
      "execution_count": 55,
      "outputs": [
        {
          "output_type": "stream",
          "name": "stdout",
          "text": [
            "[26.721507  3.577779  8.944097 ...  0.717777  0.220212 10.198574]\n"
          ]
        }
      ]
    },
    {
      "cell_type": "code",
      "source": [
        "from sklearn.preprocessing import OneHotEncoder\n",
        "from sklearn.compose import ColumnTransformer\n",
        "\n",
        "ct = ColumnTransformer([('encoding', OneHotEncoder(), [0])])\n",
        "x = ct.fit_transform(x)\n",
        "print(x)"
      ],
      "metadata": {
        "colab": {
          "base_uri": "https://localhost:8080/"
        },
        "id": "8ZoWOj9ESk0T",
        "outputId": "c6c2a893-6fec-4167-ee1d-2164bb6fb19f"
      },
      "execution_count": 56,
      "outputs": [
        {
          "output_type": "stream",
          "name": "stdout",
          "text": [
            "  (0, 0)\t1.0\n",
            "  (1, 0)\t1.0\n",
            "  (2, 0)\t1.0\n",
            "  (3, 0)\t1.0\n",
            "  (4, 0)\t1.0\n",
            "  (5, 0)\t1.0\n",
            "  (6, 0)\t1.0\n",
            "  (7, 0)\t1.0\n",
            "  (8, 0)\t1.0\n",
            "  (9, 0)\t1.0\n",
            "  (10, 0)\t1.0\n",
            "  (11, 0)\t1.0\n",
            "  (12, 0)\t1.0\n",
            "  (13, 0)\t1.0\n",
            "  (14, 0)\t1.0\n",
            "  (15, 0)\t1.0\n",
            "  (16, 0)\t1.0\n",
            "  (17, 0)\t1.0\n",
            "  (18, 0)\t1.0\n",
            "  (19, 0)\t1.0\n",
            "  (20, 0)\t1.0\n",
            "  (21, 0)\t1.0\n",
            "  (22, 0)\t1.0\n",
            "  (23, 0)\t1.0\n",
            "  (24, 0)\t1.0\n",
            "  :\t:\n",
            "  (59876, 51)\t1.0\n",
            "  (59877, 51)\t1.0\n",
            "  (59878, 51)\t1.0\n",
            "  (59879, 51)\t1.0\n",
            "  (59880, 51)\t1.0\n",
            "  (59881, 51)\t1.0\n",
            "  (59882, 51)\t1.0\n",
            "  (59883, 51)\t1.0\n",
            "  (59884, 51)\t1.0\n",
            "  (59885, 51)\t1.0\n",
            "  (59886, 51)\t1.0\n",
            "  (59887, 51)\t1.0\n",
            "  (59888, 51)\t1.0\n",
            "  (59889, 51)\t1.0\n",
            "  (59890, 51)\t1.0\n",
            "  (59891, 51)\t1.0\n",
            "  (59892, 51)\t1.0\n",
            "  (59893, 51)\t1.0\n",
            "  (59894, 51)\t1.0\n",
            "  (59895, 51)\t1.0\n",
            "  (59896, 51)\t1.0\n",
            "  (59897, 51)\t1.0\n",
            "  (59898, 51)\t1.0\n",
            "  (59899, 51)\t1.0\n",
            "  (59900, 51)\t1.0\n"
          ]
        }
      ]
    },
    {
      "cell_type": "code",
      "source": [
        "from sklearn.model_selection import train_test_split\n",
        "x_train,x_test,y_train,y_test=train_test_split(x,y,test_size=0.2,random_state=42)"
      ],
      "metadata": {
        "id": "Uivwb2N1T52W"
      },
      "execution_count": 57,
      "outputs": []
    },
    {
      "cell_type": "code",
      "source": [
        "print(x_train)"
      ],
      "metadata": {
        "colab": {
          "base_uri": "https://localhost:8080/"
        },
        "id": "lTi6hETYevcU",
        "outputId": "637b9d9d-bbb1-4cea-d2b8-d11b1a3af3a3"
      },
      "execution_count": 58,
      "outputs": [
        {
          "output_type": "stream",
          "name": "stdout",
          "text": [
            "  (0, 46)\t1.0\n",
            "  (1, 8)\t1.0\n",
            "  (2, 10)\t1.0\n",
            "  (3, 0)\t1.0\n",
            "  (4, 8)\t1.0\n",
            "  (5, 41)\t1.0\n",
            "  (6, 46)\t1.0\n",
            "  (7, 26)\t1.0\n",
            "  (8, 18)\t1.0\n",
            "  (9, 16)\t1.0\n",
            "  (10, 46)\t1.0\n",
            "  (11, 43)\t1.0\n",
            "  (12, 26)\t1.0\n",
            "  (13, 13)\t1.0\n",
            "  (14, 12)\t1.0\n",
            "  (15, 3)\t1.0\n",
            "  (16, 41)\t1.0\n",
            "  (17, 50)\t1.0\n",
            "  (18, 18)\t1.0\n",
            "  (19, 48)\t1.0\n",
            "  (20, 47)\t1.0\n",
            "  (21, 2)\t1.0\n",
            "  (22, 20)\t1.0\n",
            "  (23, 3)\t1.0\n",
            "  (24, 45)\t1.0\n",
            "  :\t:\n",
            "  (47895, 14)\t1.0\n",
            "  (47896, 33)\t1.0\n",
            "  (47897, 32)\t1.0\n",
            "  (47898, 4)\t1.0\n",
            "  (47899, 2)\t1.0\n",
            "  (47900, 48)\t1.0\n",
            "  (47901, 51)\t1.0\n",
            "  (47902, 0)\t1.0\n",
            "  (47903, 1)\t1.0\n",
            "  (47904, 34)\t1.0\n",
            "  (47905, 13)\t1.0\n",
            "  (47906, 37)\t1.0\n",
            "  (47907, 40)\t1.0\n",
            "  (47908, 18)\t1.0\n",
            "  (47909, 31)\t1.0\n",
            "  (47910, 14)\t1.0\n",
            "  (47911, 5)\t1.0\n",
            "  (47912, 47)\t1.0\n",
            "  (47913, 9)\t1.0\n",
            "  (47914, 38)\t1.0\n",
            "  (47915, 46)\t1.0\n",
            "  (47916, 32)\t1.0\n",
            "  (47917, 0)\t1.0\n",
            "  (47918, 13)\t1.0\n",
            "  (47919, 48)\t1.0\n"
          ]
        }
      ]
    },
    {
      "cell_type": "code",
      "source": [],
      "metadata": {
        "id": "AuOWa0SaexQb"
      },
      "execution_count": null,
      "outputs": []
    }
  ]
}