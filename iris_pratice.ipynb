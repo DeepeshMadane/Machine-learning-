{
  "nbformat": 4,
  "nbformat_minor": 0,
  "metadata": {
    "colab": {
      "provenance": [],
      "authorship_tag": "ABX9TyMw12Jdyvzv6TXsjRwbJUCL",
      "include_colab_link": true
    },
    "kernelspec": {
      "name": "python3",
      "display_name": "Python 3"
    },
    "language_info": {
      "name": "python"
    }
  },
  "cells": [
    {
      "cell_type": "markdown",
      "metadata": {
        "id": "view-in-github",
        "colab_type": "text"
      },
      "source": [
        "<a href=\"https://colab.research.google.com/github/DeepeshMadane/Machine-learning-/blob/main/iris_pratice.ipynb\" target=\"_parent\"><img src=\"https://colab.research.google.com/assets/colab-badge.svg\" alt=\"Open In Colab\"/></a>"
      ]
    },
    {
      "cell_type": "code",
      "execution_count": 1,
      "metadata": {
        "id": "2yCAvnE44MVS"
      },
      "outputs": [],
      "source": [
        "import pandas as pd\n"
      ]
    },
    {
      "cell_type": "code",
      "source": [
        "df=pd.read_csv('/content/IRIS[1].csv')"
      ],
      "metadata": {
        "id": "eDpJPKyT403v"
      },
      "execution_count": 2,
      "outputs": []
    },
    {
      "cell_type": "code",
      "source": [
        "df.head()"
      ],
      "metadata": {
        "colab": {
          "base_uri": "https://localhost:8080/",
          "height": 206
        },
        "id": "TmCw-fxx45LC",
        "outputId": "cc9a4bad-7ece-4dc8-b000-38ca9d515945"
      },
      "execution_count": 3,
      "outputs": [
        {
          "output_type": "execute_result",
          "data": {
            "text/plain": [
              "   sepal_length  sepal_width  petal_length  petal_width      species\n",
              "0           5.1          3.5           1.4          0.2  Iris-setosa\n",
              "1           4.9          3.0           1.4          0.2  Iris-setosa\n",
              "2           4.7          3.2           1.3          0.2  Iris-setosa\n",
              "3           4.6          3.1           1.5          0.2  Iris-setosa\n",
              "4           5.0          3.6           1.4          0.2  Iris-setosa"
            ],
            "text/html": [
              "\n",
              "  <div id=\"df-869f3b96-fa3f-4f3e-a157-f113aae2b8c4\" class=\"colab-df-container\">\n",
              "    <div>\n",
              "<style scoped>\n",
              "    .dataframe tbody tr th:only-of-type {\n",
              "        vertical-align: middle;\n",
              "    }\n",
              "\n",
              "    .dataframe tbody tr th {\n",
              "        vertical-align: top;\n",
              "    }\n",
              "\n",
              "    .dataframe thead th {\n",
              "        text-align: right;\n",
              "    }\n",
              "</style>\n",
              "<table border=\"1\" class=\"dataframe\">\n",
              "  <thead>\n",
              "    <tr style=\"text-align: right;\">\n",
              "      <th></th>\n",
              "      <th>sepal_length</th>\n",
              "      <th>sepal_width</th>\n",
              "      <th>petal_length</th>\n",
              "      <th>petal_width</th>\n",
              "      <th>species</th>\n",
              "    </tr>\n",
              "  </thead>\n",
              "  <tbody>\n",
              "    <tr>\n",
              "      <th>0</th>\n",
              "      <td>5.1</td>\n",
              "      <td>3.5</td>\n",
              "      <td>1.4</td>\n",
              "      <td>0.2</td>\n",
              "      <td>Iris-setosa</td>\n",
              "    </tr>\n",
              "    <tr>\n",
              "      <th>1</th>\n",
              "      <td>4.9</td>\n",
              "      <td>3.0</td>\n",
              "      <td>1.4</td>\n",
              "      <td>0.2</td>\n",
              "      <td>Iris-setosa</td>\n",
              "    </tr>\n",
              "    <tr>\n",
              "      <th>2</th>\n",
              "      <td>4.7</td>\n",
              "      <td>3.2</td>\n",
              "      <td>1.3</td>\n",
              "      <td>0.2</td>\n",
              "      <td>Iris-setosa</td>\n",
              "    </tr>\n",
              "    <tr>\n",
              "      <th>3</th>\n",
              "      <td>4.6</td>\n",
              "      <td>3.1</td>\n",
              "      <td>1.5</td>\n",
              "      <td>0.2</td>\n",
              "      <td>Iris-setosa</td>\n",
              "    </tr>\n",
              "    <tr>\n",
              "      <th>4</th>\n",
              "      <td>5.0</td>\n",
              "      <td>3.6</td>\n",
              "      <td>1.4</td>\n",
              "      <td>0.2</td>\n",
              "      <td>Iris-setosa</td>\n",
              "    </tr>\n",
              "  </tbody>\n",
              "</table>\n",
              "</div>\n",
              "    <div class=\"colab-df-buttons\">\n",
              "\n",
              "  <div class=\"colab-df-container\">\n",
              "    <button class=\"colab-df-convert\" onclick=\"convertToInteractive('df-869f3b96-fa3f-4f3e-a157-f113aae2b8c4')\"\n",
              "            title=\"Convert this dataframe to an interactive table.\"\n",
              "            style=\"display:none;\">\n",
              "\n",
              "  <svg xmlns=\"http://www.w3.org/2000/svg\" height=\"24px\" viewBox=\"0 -960 960 960\">\n",
              "    <path d=\"M120-120v-720h720v720H120Zm60-500h600v-160H180v160Zm220 220h160v-160H400v160Zm0 220h160v-160H400v160ZM180-400h160v-160H180v160Zm440 0h160v-160H620v160ZM180-180h160v-160H180v160Zm440 0h160v-160H620v160Z\"/>\n",
              "  </svg>\n",
              "    </button>\n",
              "\n",
              "  <style>\n",
              "    .colab-df-container {\n",
              "      display:flex;\n",
              "      gap: 12px;\n",
              "    }\n",
              "\n",
              "    .colab-df-convert {\n",
              "      background-color: #E8F0FE;\n",
              "      border: none;\n",
              "      border-radius: 50%;\n",
              "      cursor: pointer;\n",
              "      display: none;\n",
              "      fill: #1967D2;\n",
              "      height: 32px;\n",
              "      padding: 0 0 0 0;\n",
              "      width: 32px;\n",
              "    }\n",
              "\n",
              "    .colab-df-convert:hover {\n",
              "      background-color: #E2EBFA;\n",
              "      box-shadow: 0px 1px 2px rgba(60, 64, 67, 0.3), 0px 1px 3px 1px rgba(60, 64, 67, 0.15);\n",
              "      fill: #174EA6;\n",
              "    }\n",
              "\n",
              "    .colab-df-buttons div {\n",
              "      margin-bottom: 4px;\n",
              "    }\n",
              "\n",
              "    [theme=dark] .colab-df-convert {\n",
              "      background-color: #3B4455;\n",
              "      fill: #D2E3FC;\n",
              "    }\n",
              "\n",
              "    [theme=dark] .colab-df-convert:hover {\n",
              "      background-color: #434B5C;\n",
              "      box-shadow: 0px 1px 3px 1px rgba(0, 0, 0, 0.15);\n",
              "      filter: drop-shadow(0px 1px 2px rgba(0, 0, 0, 0.3));\n",
              "      fill: #FFFFFF;\n",
              "    }\n",
              "  </style>\n",
              "\n",
              "    <script>\n",
              "      const buttonEl =\n",
              "        document.querySelector('#df-869f3b96-fa3f-4f3e-a157-f113aae2b8c4 button.colab-df-convert');\n",
              "      buttonEl.style.display =\n",
              "        google.colab.kernel.accessAllowed ? 'block' : 'none';\n",
              "\n",
              "      async function convertToInteractive(key) {\n",
              "        const element = document.querySelector('#df-869f3b96-fa3f-4f3e-a157-f113aae2b8c4');\n",
              "        const dataTable =\n",
              "          await google.colab.kernel.invokeFunction('convertToInteractive',\n",
              "                                                    [key], {});\n",
              "        if (!dataTable) return;\n",
              "\n",
              "        const docLinkHtml = 'Like what you see? Visit the ' +\n",
              "          '<a target=\"_blank\" href=https://colab.research.google.com/notebooks/data_table.ipynb>data table notebook</a>'\n",
              "          + ' to learn more about interactive tables.';\n",
              "        element.innerHTML = '';\n",
              "        dataTable['output_type'] = 'display_data';\n",
              "        await google.colab.output.renderOutput(dataTable, element);\n",
              "        const docLink = document.createElement('div');\n",
              "        docLink.innerHTML = docLinkHtml;\n",
              "        element.appendChild(docLink);\n",
              "      }\n",
              "    </script>\n",
              "  </div>\n",
              "\n",
              "\n",
              "<div id=\"df-f4204848-34d7-4148-b92a-6d2b21bd4d6d\">\n",
              "  <button class=\"colab-df-quickchart\" onclick=\"quickchart('df-f4204848-34d7-4148-b92a-6d2b21bd4d6d')\"\n",
              "            title=\"Suggest charts\"\n",
              "            style=\"display:none;\">\n",
              "\n",
              "<svg xmlns=\"http://www.w3.org/2000/svg\" height=\"24px\"viewBox=\"0 0 24 24\"\n",
              "     width=\"24px\">\n",
              "    <g>\n",
              "        <path d=\"M19 3H5c-1.1 0-2 .9-2 2v14c0 1.1.9 2 2 2h14c1.1 0 2-.9 2-2V5c0-1.1-.9-2-2-2zM9 17H7v-7h2v7zm4 0h-2V7h2v10zm4 0h-2v-4h2v4z\"/>\n",
              "    </g>\n",
              "</svg>\n",
              "  </button>\n",
              "\n",
              "<style>\n",
              "  .colab-df-quickchart {\n",
              "      --bg-color: #E8F0FE;\n",
              "      --fill-color: #1967D2;\n",
              "      --hover-bg-color: #E2EBFA;\n",
              "      --hover-fill-color: #174EA6;\n",
              "      --disabled-fill-color: #AAA;\n",
              "      --disabled-bg-color: #DDD;\n",
              "  }\n",
              "\n",
              "  [theme=dark] .colab-df-quickchart {\n",
              "      --bg-color: #3B4455;\n",
              "      --fill-color: #D2E3FC;\n",
              "      --hover-bg-color: #434B5C;\n",
              "      --hover-fill-color: #FFFFFF;\n",
              "      --disabled-bg-color: #3B4455;\n",
              "      --disabled-fill-color: #666;\n",
              "  }\n",
              "\n",
              "  .colab-df-quickchart {\n",
              "    background-color: var(--bg-color);\n",
              "    border: none;\n",
              "    border-radius: 50%;\n",
              "    cursor: pointer;\n",
              "    display: none;\n",
              "    fill: var(--fill-color);\n",
              "    height: 32px;\n",
              "    padding: 0;\n",
              "    width: 32px;\n",
              "  }\n",
              "\n",
              "  .colab-df-quickchart:hover {\n",
              "    background-color: var(--hover-bg-color);\n",
              "    box-shadow: 0 1px 2px rgba(60, 64, 67, 0.3), 0 1px 3px 1px rgba(60, 64, 67, 0.15);\n",
              "    fill: var(--button-hover-fill-color);\n",
              "  }\n",
              "\n",
              "  .colab-df-quickchart-complete:disabled,\n",
              "  .colab-df-quickchart-complete:disabled:hover {\n",
              "    background-color: var(--disabled-bg-color);\n",
              "    fill: var(--disabled-fill-color);\n",
              "    box-shadow: none;\n",
              "  }\n",
              "\n",
              "  .colab-df-spinner {\n",
              "    border: 2px solid var(--fill-color);\n",
              "    border-color: transparent;\n",
              "    border-bottom-color: var(--fill-color);\n",
              "    animation:\n",
              "      spin 1s steps(1) infinite;\n",
              "  }\n",
              "\n",
              "  @keyframes spin {\n",
              "    0% {\n",
              "      border-color: transparent;\n",
              "      border-bottom-color: var(--fill-color);\n",
              "      border-left-color: var(--fill-color);\n",
              "    }\n",
              "    20% {\n",
              "      border-color: transparent;\n",
              "      border-left-color: var(--fill-color);\n",
              "      border-top-color: var(--fill-color);\n",
              "    }\n",
              "    30% {\n",
              "      border-color: transparent;\n",
              "      border-left-color: var(--fill-color);\n",
              "      border-top-color: var(--fill-color);\n",
              "      border-right-color: var(--fill-color);\n",
              "    }\n",
              "    40% {\n",
              "      border-color: transparent;\n",
              "      border-right-color: var(--fill-color);\n",
              "      border-top-color: var(--fill-color);\n",
              "    }\n",
              "    60% {\n",
              "      border-color: transparent;\n",
              "      border-right-color: var(--fill-color);\n",
              "    }\n",
              "    80% {\n",
              "      border-color: transparent;\n",
              "      border-right-color: var(--fill-color);\n",
              "      border-bottom-color: var(--fill-color);\n",
              "    }\n",
              "    90% {\n",
              "      border-color: transparent;\n",
              "      border-bottom-color: var(--fill-color);\n",
              "    }\n",
              "  }\n",
              "</style>\n",
              "\n",
              "  <script>\n",
              "    async function quickchart(key) {\n",
              "      const quickchartButtonEl =\n",
              "        document.querySelector('#' + key + ' button');\n",
              "      quickchartButtonEl.disabled = true;  // To prevent multiple clicks.\n",
              "      quickchartButtonEl.classList.add('colab-df-spinner');\n",
              "      try {\n",
              "        const charts = await google.colab.kernel.invokeFunction(\n",
              "            'suggestCharts', [key], {});\n",
              "      } catch (error) {\n",
              "        console.error('Error during call to suggestCharts:', error);\n",
              "      }\n",
              "      quickchartButtonEl.classList.remove('colab-df-spinner');\n",
              "      quickchartButtonEl.classList.add('colab-df-quickchart-complete');\n",
              "    }\n",
              "    (() => {\n",
              "      let quickchartButtonEl =\n",
              "        document.querySelector('#df-f4204848-34d7-4148-b92a-6d2b21bd4d6d button');\n",
              "      quickchartButtonEl.style.display =\n",
              "        google.colab.kernel.accessAllowed ? 'block' : 'none';\n",
              "    })();\n",
              "  </script>\n",
              "</div>\n",
              "\n",
              "    </div>\n",
              "  </div>\n"
            ],
            "application/vnd.google.colaboratory.intrinsic+json": {
              "type": "dataframe",
              "variable_name": "df",
              "summary": "{\n  \"name\": \"df\",\n  \"rows\": 150,\n  \"fields\": [\n    {\n      \"column\": \"sepal_length\",\n      \"properties\": {\n        \"dtype\": \"number\",\n        \"std\": 0.828066127977863,\n        \"min\": 4.3,\n        \"max\": 7.9,\n        \"num_unique_values\": 35,\n        \"samples\": [\n          6.2,\n          4.5,\n          5.6\n        ],\n        \"semantic_type\": \"\",\n        \"description\": \"\"\n      }\n    },\n    {\n      \"column\": \"sepal_width\",\n      \"properties\": {\n        \"dtype\": \"number\",\n        \"std\": 0.4335943113621737,\n        \"min\": 2.0,\n        \"max\": 4.4,\n        \"num_unique_values\": 23,\n        \"samples\": [\n          2.3,\n          4.0,\n          3.5\n        ],\n        \"semantic_type\": \"\",\n        \"description\": \"\"\n      }\n    },\n    {\n      \"column\": \"petal_length\",\n      \"properties\": {\n        \"dtype\": \"number\",\n        \"std\": 1.7644204199522626,\n        \"min\": 1.0,\n        \"max\": 6.9,\n        \"num_unique_values\": 43,\n        \"samples\": [\n          6.7,\n          3.8,\n          3.7\n        ],\n        \"semantic_type\": \"\",\n        \"description\": \"\"\n      }\n    },\n    {\n      \"column\": \"petal_width\",\n      \"properties\": {\n        \"dtype\": \"number\",\n        \"std\": 0.7631607417008411,\n        \"min\": 0.1,\n        \"max\": 2.5,\n        \"num_unique_values\": 22,\n        \"samples\": [\n          0.2,\n          1.2,\n          1.3\n        ],\n        \"semantic_type\": \"\",\n        \"description\": \"\"\n      }\n    },\n    {\n      \"column\": \"species\",\n      \"properties\": {\n        \"dtype\": \"category\",\n        \"num_unique_values\": 3,\n        \"samples\": [\n          \"Iris-setosa\",\n          \"Iris-versicolor\",\n          \"Iris-virginica\"\n        ],\n        \"semantic_type\": \"\",\n        \"description\": \"\"\n      }\n    }\n  ]\n}"
            }
          },
          "metadata": {},
          "execution_count": 3
        }
      ]
    },
    {
      "cell_type": "code",
      "source": [
        "x=df.drop('species',axis=1)"
      ],
      "metadata": {
        "id": "8RWiA7LY46xi"
      },
      "execution_count": 4,
      "outputs": []
    },
    {
      "cell_type": "code",
      "source": [
        "y=df['species']"
      ],
      "metadata": {
        "id": "Oga_39F-5Bgx"
      },
      "execution_count": 5,
      "outputs": []
    },
    {
      "cell_type": "code",
      "source": [
        "from sklearn.model_selection import train_test_split\n",
        "x_train,x_test,y_train,y_test=train_test_split(x,y,test_size=0.2,random_state=42)"
      ],
      "metadata": {
        "id": "wAvJfksn5Hw_"
      },
      "execution_count": 6,
      "outputs": []
    },
    {
      "cell_type": "code",
      "source": [
        "print(x_train)"
      ],
      "metadata": {
        "colab": {
          "base_uri": "https://localhost:8080/"
        },
        "id": "XwDtlJIK5hOL",
        "outputId": "b933915e-431e-4ed3-e4f9-1657a37736f4"
      },
      "execution_count": 7,
      "outputs": [
        {
          "output_type": "stream",
          "name": "stdout",
          "text": [
            "     sepal_length  sepal_width  petal_length  petal_width\n",
            "22            4.6          3.6           1.0          0.2\n",
            "15            5.7          4.4           1.5          0.4\n",
            "65            6.7          3.1           4.4          1.4\n",
            "11            4.8          3.4           1.6          0.2\n",
            "42            4.4          3.2           1.3          0.2\n",
            "..            ...          ...           ...          ...\n",
            "71            6.1          2.8           4.0          1.3\n",
            "106           4.9          2.5           4.5          1.7\n",
            "14            5.8          4.0           1.2          0.2\n",
            "92            5.8          2.6           4.0          1.2\n",
            "102           7.1          3.0           5.9          2.1\n",
            "\n",
            "[120 rows x 4 columns]\n"
          ]
        }
      ]
    },
    {
      "cell_type": "code",
      "source": [
        "from sklearn.preprocessing import StandardScaler\n",
        "sc=StandardScaler"
      ],
      "metadata": {
        "id": "Po-znVgn5jNM"
      },
      "execution_count": 8,
      "outputs": []
    },
    {
      "cell_type": "code",
      "source": [
        "sc=StandardScaler()"
      ],
      "metadata": {
        "id": "nvQ9iROv6HCt"
      },
      "execution_count": 9,
      "outputs": []
    },
    {
      "cell_type": "code",
      "source": [
        "x_train=sc.fit_transform(x_train)\n",
        "x_test=sc.transform(x_test)"
      ],
      "metadata": {
        "colab": {
          "base_uri": "https://localhost:8080/"
        },
        "id": "3Z5z-wIK6KZo",
        "outputId": "502889f5-a226-4603-e95f-70b3fff85124"
      },
      "execution_count": 11,
      "outputs": [
        {
          "output_type": "stream",
          "name": "stderr",
          "text": [
            "/usr/local/lib/python3.10/dist-packages/sklearn/base.py:432: UserWarning: X has feature names, but StandardScaler was fitted without feature names\n",
            "  warnings.warn(\n"
          ]
        }
      ]
    },
    {
      "cell_type": "code",
      "source": [
        "print(x_train)"
      ],
      "metadata": {
        "colab": {
          "base_uri": "https://localhost:8080/"
        },
        "id": "Ch_-aHdc6cFl",
        "outputId": "2ac11f31-a1b7-4bf6-eb58-459960ef6443"
      },
      "execution_count": 12,
      "outputs": [
        {
          "output_type": "stream",
          "name": "stdout",
          "text": [
            "[[-1.47393679  1.22037928 -1.5639872  -1.30948358]\n",
            " [-0.13307079  3.02001693 -1.27728011 -1.04292204]\n",
            " [ 1.08589829  0.09560575  0.38562104  0.28988568]\n",
            " [-1.23014297  0.77046987 -1.21993869 -1.30948358]\n",
            " [-1.7177306   0.32056046 -1.39196294 -1.30948358]\n",
            " [ 0.59831066 -1.25412249  0.72966956  0.95628954]\n",
            " [ 0.72020757  0.32056046  0.44296246  0.42316645]\n",
            " [-0.74255534  0.99542457 -1.27728011 -1.30948358]\n",
            " [-0.98634915  1.22037928 -1.33462153 -1.30948358]\n",
            " [-0.74255534  2.34515281 -1.27728011 -1.44276436]\n",
            " [-0.01117388 -0.80421307  0.78701097  0.95628954]\n",
            " [ 0.23261993  0.77046987  0.44296246  0.55644722]\n",
            " [ 1.08589829  0.09560575  0.5576453   0.42316645]\n",
            " [-0.49876152  1.8952434  -1.39196294 -1.04292204]\n",
            " [-0.49876152  1.44533399 -1.27728011 -1.30948358]\n",
            " [-0.37686461 -1.47907719 -0.01576889 -0.24323741]\n",
            " [ 0.59831066 -0.57925837  0.78701097  0.42316645]\n",
            " [ 0.72020757  0.09560575  1.01637665  0.82300877]\n",
            " [ 0.96400139 -0.12934896  0.38562104  0.28988568]\n",
            " [ 1.69538284  1.22037928  1.36042516  1.75597417]\n",
            " [-0.13307079 -0.35430366  0.2709382   0.15660491]\n",
            " [ 2.18297047 -0.12934896  1.64713226  1.22285108]\n",
            " [-0.2549677  -0.12934896  0.44296246  0.42316645]\n",
            " [-0.86445224  0.99542457 -1.33462153 -1.30948358]\n",
            " [ 2.30486738 -0.57925837  1.70447368  1.08957031]\n",
            " [-0.01117388 -0.80421307  0.21359679 -0.24323741]\n",
            " [-0.74255534  0.77046987 -1.33462153 -1.30948358]\n",
            " [-0.98634915  0.99542457 -1.39196294 -1.17620281]\n",
            " [-0.86445224  1.67028869 -1.04791443 -1.04292204]\n",
            " [-0.98634915 -2.37889602 -0.13045173 -0.24323741]\n",
            " [ 0.59831066 -0.80421307  0.67232814  0.82300877]\n",
            " [-1.23014297  0.77046987 -1.04791443 -1.30948358]\n",
            " [-0.98634915 -0.12934896 -1.21993869 -1.30948358]\n",
            " [-0.86445224  0.54551516 -1.16259727 -0.90964127]\n",
            " [-0.2549677  -0.80421307  0.2709382   0.15660491]\n",
            " [-0.86445224  0.77046987 -1.27728011 -1.30948358]\n",
            " [-0.13307079 -0.12934896  0.2709382   0.02332414]\n",
            " [ 2.30486738  1.67028869  1.70447368  1.35613185]\n",
            " [-1.47393679  0.32056046 -1.33462153 -1.30948358]\n",
            " [ 0.47641375 -0.35430366  0.32827962  0.15660491]\n",
            " [-0.13307079 -1.25412249  0.72966956  1.08957031]\n",
            " [-0.37686461  2.57010752 -1.33462153 -1.30948358]\n",
            " [ 0.23261993 -0.12934896  0.61498672  0.82300877]\n",
            " [-0.01117388 -0.80421307  0.78701097  0.95628954]\n",
            " [ 0.23261993 -1.9289866   0.15625537 -0.24323741]\n",
            " [-0.49876152 -0.12934896  0.44296246  0.42316645]\n",
            " [ 0.47641375  0.77046987  0.95903523  1.48941263]\n",
            " [-0.37686461 -1.7040319   0.15625537  0.15660491]\n",
            " [-0.49876152  1.8952434  -1.16259727 -1.04292204]\n",
            " [-0.98634915 -1.7040319  -0.24513457 -0.24323741]\n",
            " [ 0.72020757 -0.80421307  0.90169381  0.95628954]\n",
            " [-0.98634915  0.54551516 -1.33462153 -1.30948358]\n",
            " [-0.98634915  0.32056046 -1.44930436 -1.30948358]\n",
            " [-0.37686461 -1.47907719  0.04157253 -0.10995664]\n",
            " [ 1.08589829 -0.12934896  0.72966956  0.68972799]\n",
            " [-1.10824606  0.09560575 -1.27728011 -1.44276436]\n",
            " [-0.01117388 -0.57925837  0.78701097  1.6226934 ]\n",
            " [-0.98634915  0.77046987 -1.27728011 -1.30948358]\n",
            " [-0.98634915  0.99542457 -1.21993869 -0.7763605 ]\n",
            " [ 0.11072303  0.32056046  0.61498672  0.82300877]\n",
            " [-0.86445224 -1.25412249 -0.41715882 -0.10995664]\n",
            " [ 1.32969211  0.32056046  1.13105949  1.48941263]\n",
            " [ 0.23261993 -0.80421307  0.78701097  0.55644722]\n",
            " [ 0.35451684 -1.02916778  1.07371807  0.28988568]\n",
            " [ 2.30486738 -0.12934896  1.36042516  1.48941263]\n",
            " [-0.37686461 -1.25412249  0.15625537  0.15660491]\n",
            " [-1.7177306  -0.35430366 -1.33462153 -1.30948358]\n",
            " [-1.83962751 -0.12934896 -1.50664578 -1.44276436]\n",
            " [ 0.23261993 -1.9289866   0.72966956  0.42316645]\n",
            " [ 1.69538284  0.32056046  1.30308374  0.82300877]\n",
            " [-1.47393679  0.09560575 -1.27728011 -1.30948358]\n",
            " [-0.86445224  0.99542457 -1.33462153 -1.17620281]\n",
            " [-1.7177306  -0.12934896 -1.39196294 -1.30948358]\n",
            " [ 0.59831066 -1.25412249  0.67232814  0.42316645]\n",
            " [ 0.59831066  0.77046987  1.07371807  1.6226934 ]\n",
            " [-1.47393679  0.77046987 -1.33462153 -1.17620281]\n",
            " [ 1.2077952  -0.12934896  1.01637665  1.22285108]\n",
            " [ 0.59831066  0.54551516  1.30308374  1.75597417]\n",
            " [-1.35203988  0.32056046 -1.39196294 -1.30948358]\n",
            " [ 0.35451684 -0.35430366  0.5576453   0.28988568]\n",
            " [ 0.84210448 -0.57925837  0.50030388  0.42316645]\n",
            " [ 0.47641375 -0.57925837  0.61498672  0.82300877]\n",
            " [ 1.45158902  0.32056046  0.5576453   0.28988568]\n",
            " [ 0.72020757  0.32056046  0.90169381  1.48941263]\n",
            " [-0.86445224  1.67028869 -1.21993869 -1.30948358]\n",
            " [ 1.32969211  0.09560575  0.95903523  1.22285108]\n",
            " [ 0.11072303 -0.12934896  0.2709382   0.42316645]\n",
            " [ 0.84210448 -0.12934896  0.84435239  1.08957031]\n",
            " [-0.13307079 -1.02916778 -0.13045173 -0.24323741]\n",
            " [-0.74255534 -0.80421307  0.09891395  0.28988568]\n",
            " [ 0.35451684 -0.12934896  0.50030388  0.28988568]\n",
            " [-1.5958337  -1.7040319  -1.39196294 -1.17620281]\n",
            " [ 0.96400139 -0.35430366  0.50030388  0.15660491]\n",
            " [-0.37686461 -1.02916778  0.38562104  0.02332414]\n",
            " [-0.62065843  1.44533399 -1.27728011 -1.30948358]\n",
            " [-0.2549677  -0.12934896  0.21359679  0.15660491]\n",
            " [ 1.81727975 -0.35430366  1.475108    0.82300877]\n",
            " [ 1.08589829  0.54551516  1.13105949  1.22285108]\n",
            " [-0.86445224  1.44533399 -1.27728011 -1.04292204]\n",
            " [-1.10824606 -1.47907719 -0.24513457 -0.24323741]\n",
            " [ 1.08589829  0.54551516  1.13105949  1.75597417]\n",
            " [ 1.69538284 -0.12934896  1.18840091  0.55644722]\n",
            " [-1.10824606  0.09560575 -1.27728011 -1.44276436]\n",
            " [ 1.08589829  0.09560575  1.07371807  1.6226934 ]\n",
            " [-1.10824606 -0.12934896 -1.33462153 -1.30948358]\n",
            " [ 1.32969211  0.09560575  0.67232814  0.42316645]\n",
            " [ 1.93917666 -0.57925837  1.36042516  0.95628954]\n",
            " [ 0.59831066 -0.35430366  1.07371807  0.82300877]\n",
            " [-0.13307079 -0.57925837  0.21359679  0.15660491]\n",
            " [ 0.84210448 -0.12934896  1.01637665  0.82300877]\n",
            " [ 0.59831066 -1.7040319   0.38562104  0.15660491]\n",
            " [ 0.72020757 -0.35430366  0.32827962  0.15660491]\n",
            " [-0.2549677  -0.57925837  0.67232814  1.08957031]\n",
            " [ 0.11072303 -0.12934896  0.78701097  0.82300877]\n",
            " [-0.49876152  0.77046987 -1.16259727 -1.30948358]\n",
            " [ 0.35451684 -0.57925837  0.15625537  0.15660491]\n",
            " [-1.10824606 -1.25412249  0.44296246  0.68972799]\n",
            " [-0.01117388  2.1201981  -1.44930436 -1.30948358]\n",
            " [-0.01117388 -1.02916778  0.15625537  0.02332414]\n",
            " [ 1.57348593 -0.12934896  1.24574233  1.22285108]]\n"
          ]
        }
      ]
    },
    {
      "cell_type": "code",
      "source": [
        "print(x_test)"
      ],
      "metadata": {
        "colab": {
          "base_uri": "https://localhost:8080/"
        },
        "id": "x8J8NgmK6it3",
        "outputId": "ec366ac0-c460-4ca8-d452-dff3ca764351"
      },
      "execution_count": 13,
      "outputs": [
        {
          "output_type": "stream",
          "name": "stdout",
          "text": [
            "[[6.1 2.8 4.7 1.2]\n",
            " [5.7 3.8 1.7 0.3]\n",
            " [7.7 2.6 6.9 2.3]\n",
            " [6.  2.9 4.5 1.5]\n",
            " [6.8 2.8 4.8 1.4]\n",
            " [5.4 3.4 1.5 0.4]\n",
            " [5.6 2.9 3.6 1.3]\n",
            " [6.9 3.1 5.1 2.3]\n",
            " [6.2 2.2 4.5 1.5]\n",
            " [5.8 2.7 3.9 1.2]\n",
            " [6.5 3.2 5.1 2. ]\n",
            " [4.8 3.  1.4 0.1]\n",
            " [5.5 3.5 1.3 0.2]\n",
            " [4.9 3.1 1.5 0.1]\n",
            " [5.1 3.8 1.5 0.3]\n",
            " [6.3 3.3 4.7 1.6]\n",
            " [6.5 3.  5.8 2.2]\n",
            " [5.6 2.5 3.9 1.1]\n",
            " [5.7 2.8 4.5 1.3]\n",
            " [6.4 2.8 5.6 2.2]\n",
            " [4.7 3.2 1.6 0.2]\n",
            " [6.1 3.  4.9 1.8]\n",
            " [5.  3.4 1.6 0.4]\n",
            " [6.4 2.8 5.6 2.1]\n",
            " [7.9 3.8 6.4 2. ]\n",
            " [6.7 3.  5.2 2.3]\n",
            " [6.7 2.5 5.8 1.8]\n",
            " [6.8 3.2 5.9 2.3]\n",
            " [4.8 3.  1.4 0.3]\n",
            " [4.8 3.1 1.6 0.2]]\n"
          ]
        }
      ]
    },
    {
      "cell_type": "code",
      "source": [],
      "metadata": {
        "id": "Uq-TP-ef6mLi"
      },
      "execution_count": null,
      "outputs": []
    }
  ]
}